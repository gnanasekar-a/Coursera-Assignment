{
 "cells": [
  {
   "cell_type": "markdown",
   "metadata": {},
   "source": [
    "# __Capstone Project - The Battle of Neighborhoods - Week 1__"
   ]
  },
  {
   "cell_type": "markdown",
   "metadata": {},
   "source": [
    "## Business Problem\n",
    "\n",
    "The stakeholder wants to open a new cinema as company's new business and they are looking for where we can have it opened.\n",
    "\n",
    "Customer explains that in Audience point of view, watching movie is a part of whole afternoon or night activities. Cinema should have many restaurants and shopping places nearby. Transportation is also an important factor. Audience can walk to cinema within 5 minutes from public transport facilities such as bus stop and metro station.\n",
    "\n",
    "He wants us to concentrate on selection of cinema location according to its nearby environment. Cinema facility and rental price is not my concern. He lists out his top 10 favorite cinemas in Hong Kong with rating.\n",
    "\n",
    "## Data\n",
    "\n",
    "Data is the section where you describe about data that will be used to solve the problem and the source of the data.\n",
    "I need to compare 5 possible locations with current cinemas in Hong Kong. Therefore, I need to find a list of Hong Kong cinema and cinemas' geographic coordinates. \n",
    "\n",
    "## Applying data science to solve the problem\n",
    "\n",
    "To solve the existing problems, the start-up intends to collect location data from Foursquare and apply data science techniques and tools. The data collected will involve comparison of locations to determine which is the best location to recommend to a customer. \n"
   ]
  },
  {
   "cell_type": "markdown",
   "metadata": {},
   "source": [
    "##### __Import necessary library__"
   ]
  },
  {
   "cell_type": "code",
   "execution_count": 6,
   "metadata": {},
   "outputs": [],
   "source": [
    "import json\n",
    "import pandas as pd"
   ]
  },
  {
   "cell_type": "markdown",
   "metadata": {},
   "source": [
    "##### __Download the cinema list__"
   ]
  },
  {
   "cell_type": "code",
   "execution_count": 9,
   "metadata": {},
   "outputs": [
    {
     "name": "stdout",
     "output_type": "stream",
     "text": [
      "--2018-09-29 18:56:35--  https://hkmovie6.com/api/cinemas/lists\n",
      "Resolving hkmovie6.com (hkmovie6.com)... 104.24.110.59, 104.24.111.59, 2606:4700:30::6818:6f3b, ...\n",
      "Connecting to hkmovie6.com (hkmovie6.com)|104.24.110.59|:443... connected.\n",
      "HTTP request sent, awaiting response... 200 OK\n",
      "Length: unspecified [application/json]\n",
      "Saving to: ‘hk_cinema_list.json’\n",
      "\n",
      "hk_cinema_list.json     [ <=>                  ]  51.74K   295KB/s   in 0.2s   \n",
      "\n",
      "2018-09-29 18:56:36 (295 KB/s) - ‘hk_cinema_list.json’ saved [52984]\n",
      "\n",
      " Data is Downloaded\n"
     ]
    }
   ],
   "source": [
    "!wget -O hk_cinema_list.json https://hkmovie6.com/api/cinemas/lists\n",
    "print(\" Data is Downloaded\")"
   ]
  },
  {
   "cell_type": "code",
   "execution_count": null,
   "metadata": {},
   "outputs": [],
   "source": []
  },
  {
   "cell_type": "code",
   "execution_count": null,
   "metadata": {},
   "outputs": [],
   "source": []
  },
  {
   "cell_type": "code",
   "execution_count": null,
   "metadata": {},
   "outputs": [],
   "source": []
  }
 ],
 "metadata": {
  "kernelspec": {
   "display_name": "Python 3",
   "language": "python",
   "name": "python3"
  },
  "language_info": {
   "codemirror_mode": {
    "name": "ipython",
    "version": 3
   },
   "file_extension": ".py",
   "mimetype": "text/x-python",
   "name": "python",
   "nbconvert_exporter": "python",
   "pygments_lexer": "ipython3",
   "version": "3.6.5"
  }
 },
 "nbformat": 4,
 "nbformat_minor": 2
}
