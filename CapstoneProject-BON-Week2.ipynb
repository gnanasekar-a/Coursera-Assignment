{
 "cells": [
  {
   "cell_type": "markdown",
   "metadata": {},
   "source": [
    "# __Capstone Project - The Battle of Neighborhoods - Week 1__"
   ]
  },
  {
   "cell_type": "markdown",
   "metadata": {},
   "source": [
    "## Business Problem\n",
    "\n",
    "The stakeholder wants to open a new cinema as company's new business and they are looking for where we can have it opened.\n",
    "\n",
    "Customer explains that in Audience point of view, watching movie is a part of whole afternoon or night activities. Cinema should have many restaurants and shopping places nearby. Transportation is also an important factor. Audience can walk to cinema within 5 minutes from public transport facilities such as bus stop and metro station.\n",
    "\n",
    "He wants us to concentrate on selection of cinema location according to its nearby environment. Cinema facility and rental price is not my concern. He lists out his top 10 favorite cinemas in Hong Kong with rating.\n",
    "\n",
    "## Data\n",
    "\n",
    "Data is the section where you describe about data that will be used to solve the problem and the source of the data.\n",
    "I need to compare 5 possible locations with current cinemas in Hong Kong. Therefore, I need to find a list of Hong Kong cinema and cinemas' geographic coordinates. \n",
    "\n",
    "## Applying data science to solve the problem\n",
    "\n",
    "To solve the existing problems, the start-up intends to collect location data from Foursquare and apply data science techniques and tools. The data collected will involve comparison of locations to determine which is the best location to recommend to a customer. \n"
   ]
  },
  {
   "cell_type": "markdown",
   "metadata": {},
   "source": [
    "##### __Import necessary library__"
   ]
  },
  {
   "cell_type": "code",
   "execution_count": 6,
   "metadata": {},
   "outputs": [],
   "source": [
    "import json\n",
    "import pandas as pd"
   ]
  },
  {
   "cell_type": "markdown",
   "metadata": {},
   "source": [
    "##### __Download the cinema list__"
   ]
  },
  {
   "cell_type": "code",
   "execution_count": 9,
   "metadata": {},
   "outputs": [
    {
     "name": "stdout",
     "output_type": "stream",
     "text": [
      "--2018-09-29 18:56:35--  https://hkmovie6.com/api/cinemas/lists\n",
      "Resolving hkmovie6.com (hkmovie6.com)... 104.24.110.59, 104.24.111.59, 2606:4700:30::6818:6f3b, ...\n",
      "Connecting to hkmovie6.com (hkmovie6.com)|104.24.110.59|:443... connected.\n",
      "HTTP request sent, awaiting response... 200 OK\n",
      "Length: unspecified [application/json]\n",
      "Saving to: ‘hk_cinema_list.json’\n",
      "\n",
      "hk_cinema_list.json     [ <=>                  ]  51.74K   295KB/s   in 0.2s   \n",
      "\n",
      "2018-09-29 18:56:36 (295 KB/s) - ‘hk_cinema_list.json’ saved [52984]\n",
      "\n",
      " Data is Downloaded\n"
     ]
    }
   ],
   "source": [
    "!wget -O hk_cinema_list.json https://hkmovie6.com/api/cinemas/lists\n",
    "print(\" Data is Downloaded\")"
   ]
  },
  {
   "cell_type": "markdown",
   "metadata": {},
   "source": [
    "##### __Convert the JSON data into DataFrmae__"
   ]
  },
  {
   "cell_type": "code",
   "execution_count": 11,
   "metadata": {},
   "outputs": [
    {
     "data": {
      "text/html": [
       "<div>\n",
       "<style scoped>\n",
       "    .dataframe tbody tr th:only-of-type {\n",
       "        vertical-align: middle;\n",
       "    }\n",
       "\n",
       "    .dataframe tbody tr th {\n",
       "        vertical-align: top;\n",
       "    }\n",
       "\n",
       "    .dataframe thead th {\n",
       "        text-align: right;\n",
       "    }\n",
       "</style>\n",
       "<table border=\"1\" class=\"dataframe\">\n",
       "  <thead>\n",
       "    <tr style=\"text-align: right;\">\n",
       "      <th></th>\n",
       "      <th>Name</th>\n",
       "      <th>Address</th>\n",
       "      <th>Latitude</th>\n",
       "      <th>Longitude</th>\n",
       "    </tr>\n",
       "  </thead>\n",
       "  <tbody>\n",
       "    <tr>\n",
       "      <th>0</th>\n",
       "      <td>Emperor Cinemas - Entertainment Building</td>\n",
       "      <td>3/F, Emperor Cinemas Entertainment Building, 3...</td>\n",
       "      <td>22.281453</td>\n",
       "      <td>114.154230</td>\n",
       "    </tr>\n",
       "    <tr>\n",
       "      <th>1</th>\n",
       "      <td>The Coronet @ Emperor Cinemas - Entertainment ...</td>\n",
       "      <td>3/F, Emperor Cinemas Entertainment Building, 3...</td>\n",
       "      <td>22.281453</td>\n",
       "      <td>114.154230</td>\n",
       "    </tr>\n",
       "    <tr>\n",
       "      <th>2</th>\n",
       "      <td>Emperor Cinemas - Tuen Mun</td>\n",
       "      <td>3/F, New Town Commercial Arcade, 2 Tuen Lee St...</td>\n",
       "      <td>22.390776</td>\n",
       "      <td>113.975983</td>\n",
       "    </tr>\n",
       "    <tr>\n",
       "      <th>3</th>\n",
       "      <td>Broadway Circuit - CYBERPORT</td>\n",
       "      <td>Shop L1 - 3, Level 1, The Arcade, 100 Cyberpor...</td>\n",
       "      <td>22.261067</td>\n",
       "      <td>114.129825</td>\n",
       "    </tr>\n",
       "    <tr>\n",
       "      <th>4</th>\n",
       "      <td>Broadway Circuit - PALACE IFC</td>\n",
       "      <td>Podium L1, IFC Mall, 8 Finance Street, Central</td>\n",
       "      <td>22.285545</td>\n",
       "      <td>114.157979</td>\n",
       "    </tr>\n",
       "  </tbody>\n",
       "</table>\n",
       "</div>"
      ],
      "text/plain": [
       "                                                Name  \\\n",
       "0           Emperor Cinemas - Entertainment Building   \n",
       "1  The Coronet @ Emperor Cinemas - Entertainment ...   \n",
       "2                         Emperor Cinemas - Tuen Mun   \n",
       "3                       Broadway Circuit - CYBERPORT   \n",
       "4                      Broadway Circuit - PALACE IFC   \n",
       "\n",
       "                                             Address   Latitude   Longitude  \n",
       "0  3/F, Emperor Cinemas Entertainment Building, 3...  22.281453  114.154230  \n",
       "1  3/F, Emperor Cinemas Entertainment Building, 3...  22.281453  114.154230  \n",
       "2  3/F, New Town Commercial Arcade, 2 Tuen Lee St...  22.390776  113.975983  \n",
       "3  Shop L1 - 3, Level 1, The Arcade, 100 Cyberpor...  22.261067  114.129825  \n",
       "4     Podium L1, IFC Mall, 8 Finance Street, Central  22.285545  114.157979  "
      ]
     },
     "execution_count": 11,
     "metadata": {},
     "output_type": "execute_result"
    }
   ],
   "source": [
    "cinemas_json = None\n",
    "with open('hk_cinema_list.json', 'r') as f:\n",
    "    cinemas_json = json.load(f)\n",
    "    \n",
    "cinemas = []\n",
    "for data in cinemas_json['data']:\n",
    "    cinemas.append({\n",
    "        'Name': data['name'],\n",
    "        'Address': data['address'],\n",
    "        'Latitude': data['lat'],\n",
    "        'Longitude': data['lon']\n",
    "    })\n",
    "df_cinemas = pd.DataFrame(cinemas, columns=['Name','Address','Latitude','Longitude'])\n",
    "df_cinemas.head()"
   ]
  },
  {
   "cell_type": "code",
   "execution_count": 12,
   "metadata": {},
   "outputs": [],
   "source": [
    "possible_locations = [\n",
    "    { 'Location': 'L1', 'Address': 'Sau Mau Ping Shopping Centre, Sau Mau Ping'},\n",
    "    { 'Location': 'L2', 'Address': 'Tuen Mun Ferry, Tuen Mun'},\n",
    "    { 'Location': 'L3', 'Address': 'Un Chau Shopping Centre, Cheung Sha Wan'},\n",
    "    { 'Location': 'L4', 'Address': 'Prosperity Millennia Plaza, North Point'},\n",
    "    { 'Location': 'L5', 'Address': 'Tsuen Fung Centre Shopping Arcade, Tsuen Wan'},\n",
    "]"
   ]
  },
  {
   "cell_type": "markdown",
   "metadata": {},
   "source": [
    "##### __Install the google map api client library__"
   ]
  },
  {
   "cell_type": "code",
   "execution_count": 13,
   "metadata": {},
   "outputs": [
    {
     "name": "stdout",
     "output_type": "stream",
     "text": [
      "Collecting googlemaps\n",
      "  Downloading https://files.pythonhosted.org/packages/5a/3d/13b4230f3c1b8a586cdc8d8179f3c6af771c11247f8de9c166d1ab37f51d/googlemaps-3.0.2.tar.gz\n",
      "Requirement not upgraded as not directly required: requests<3.0,>=2.11.1 in /home/jupyterlab/conda/lib/python3.6/site-packages (from googlemaps) (2.18.4)\n",
      "Requirement not upgraded as not directly required: chardet<3.1.0,>=3.0.2 in /home/jupyterlab/conda/lib/python3.6/site-packages (from requests<3.0,>=2.11.1->googlemaps) (3.0.4)\n",
      "Requirement not upgraded as not directly required: idna<2.7,>=2.5 in /home/jupyterlab/conda/lib/python3.6/site-packages (from requests<3.0,>=2.11.1->googlemaps) (2.6)\n",
      "Requirement not upgraded as not directly required: urllib3<1.23,>=1.21.1 in /home/jupyterlab/conda/lib/python3.6/site-packages (from requests<3.0,>=2.11.1->googlemaps) (1.22)\n",
      "Requirement not upgraded as not directly required: certifi>=2017.4.17 in /home/jupyterlab/conda/lib/python3.6/site-packages (from requests<3.0,>=2.11.1->googlemaps) (2018.8.24)\n",
      "Building wheels for collected packages: googlemaps\n",
      "  Running setup.py bdist_wheel for googlemaps ... \u001b[?25ldone\n",
      "\u001b[?25h  Stored in directory: /home/jupyterlab/.cache/pip/wheels/3c/3f/25/ce6d7722dba07e5d4a12d27ab38f3d7add65ef43171b02c819\n",
      "Successfully built googlemaps\n",
      "\u001b[31mdistributed 1.21.8 requires msgpack, which is not installed.\u001b[0m\n",
      "Installing collected packages: googlemaps\n",
      "Successfully installed googlemaps-3.0.2\n"
     ]
    }
   ],
   "source": [
    "!pip install -U googlemaps"
   ]
  },
  {
   "cell_type": "code",
   "execution_count": 15,
   "metadata": {},
   "outputs": [
    {
     "data": {
      "text/html": [
       "<div>\n",
       "<style scoped>\n",
       "    .dataframe tbody tr th:only-of-type {\n",
       "        vertical-align: middle;\n",
       "    }\n",
       "\n",
       "    .dataframe tbody tr th {\n",
       "        vertical-align: top;\n",
       "    }\n",
       "\n",
       "    .dataframe thead th {\n",
       "        text-align: right;\n",
       "    }\n",
       "</style>\n",
       "<table border=\"1\" class=\"dataframe\">\n",
       "  <thead>\n",
       "    <tr style=\"text-align: right;\">\n",
       "      <th></th>\n",
       "      <th>Name</th>\n",
       "      <th>Rating</th>\n",
       "    </tr>\n",
       "  </thead>\n",
       "  <tbody>\n",
       "    <tr>\n",
       "      <th>0</th>\n",
       "      <td>Boradway Circuit - MONGKONG</td>\n",
       "      <td>4.5</td>\n",
       "    </tr>\n",
       "    <tr>\n",
       "      <th>1</th>\n",
       "      <td>Boradway Circuit - The ONE</td>\n",
       "      <td>4.5</td>\n",
       "    </tr>\n",
       "    <tr>\n",
       "      <th>2</th>\n",
       "      <td>Grand Ocean</td>\n",
       "      <td>4.3</td>\n",
       "    </tr>\n",
       "    <tr>\n",
       "      <th>3</th>\n",
       "      <td>The Grand Cinema</td>\n",
       "      <td>3.4</td>\n",
       "    </tr>\n",
       "    <tr>\n",
       "      <th>4</th>\n",
       "      <td>AMC Pacific Place</td>\n",
       "      <td>2.3</td>\n",
       "    </tr>\n",
       "    <tr>\n",
       "      <th>5</th>\n",
       "      <td>UA IMAX @ Airport</td>\n",
       "      <td>1.5</td>\n",
       "    </tr>\n",
       "  </tbody>\n",
       "</table>\n",
       "</div>"
      ],
      "text/plain": [
       "                          Name  Rating\n",
       "0  Boradway Circuit - MONGKONG     4.5\n",
       "1   Boradway Circuit - The ONE     4.5\n",
       "2                  Grand Ocean     4.3\n",
       "3             The Grand Cinema     3.4\n",
       "4            AMC Pacific Place     2.3\n",
       "5            UA IMAX @ Airport     1.5"
      ]
     },
     "execution_count": 15,
     "metadata": {},
     "output_type": "execute_result"
    }
   ],
   "source": [
    "boss_favorite = [\n",
    "    {'Name': 'Boradway Circuit - MONGKONG', 'Rating': 4.5},\n",
    "    {'Name': 'Boradway Circuit - The ONE', 'Rating': 4.5},\n",
    "    {'Name': 'Grand Ocean', 'Rating': 4.3},\n",
    "    {'Name': 'The Grand Cinema', 'Rating': 3.4},\n",
    "    {'Name': 'AMC Pacific Place', 'Rating': 2.3},\n",
    "    {'Name': 'UA IMAX @ Airport', 'Rating': 1.5},\n",
    "]\n",
    "\n",
    "df_boss_favorite = pd.DataFrame(boss_favorite, columns=['Name','Rating'])\n",
    "df_boss_favorite"
   ]
  },
  {
   "cell_type": "markdown",
   "metadata": {},
   "source": [
    "\n",
    "\n",
    "With above data, I can build a content-based recommender systems to resolve the problem.\n",
    "\n",
    "Combine with FourSquare API on counting how many different venues (Food, Transport, Night Life) and Hong Kong cinema list, a cinema nearby venues matrix can be built. Stakeholder's favorite list is the profile to combine with cinema nearby venues matrix to become a weighted matrix of favorite cinema.\n",
    "\n",
    "The weighted matrix can be applied on 5 possible locations with venues information to generate a ranking result. The the top one on the ranking list can be recommended to the stakeholder.\n",
    "\n",
    "# Methodology\n",
    "\n",
    "Methodology section which represents the main component of the report where you discuss and describe any exploratory data analysis that you did, any inferential statistical testing that you performed, and what machine learnings were used and why.\n",
    "\n",
    "The methodology I used is pretty straightforward. I will try out a number of different machine learning / statistical learning methods after splitting the data into training and test sets, and find out which ones are best at describing the best location for cinema. \n",
    "\n",
    "# Results\n",
    "\n",
    "Results section where you discuss the results.\n",
    "\n",
    "# Discussion\n",
    "\n",
    "Discussion section where you discuss any observations you noted and any recommendations you can make based on the results. \n",
    "\n",
    "# Conclusion\n",
    "\n",
    "Conclusion section where you conclude the report. Without a lot more work in the initial data exploration and methodology phase, it would not be possible to figure out which location would be best fit for cinema.\n"
   ]
  },
  {
   "cell_type": "code",
   "execution_count": null,
   "metadata": {},
   "outputs": [],
   "source": []
  }
 ],
 "metadata": {
  "kernelspec": {
   "display_name": "Python 3",
   "language": "python",
   "name": "python3"
  },
  "language_info": {
   "codemirror_mode": {
    "name": "ipython",
    "version": 3
   },
   "file_extension": ".py",
   "mimetype": "text/x-python",
   "name": "python",
   "nbconvert_exporter": "python",
   "pygments_lexer": "ipython3",
   "version": "3.6.5"
  }
 },
 "nbformat": 4,
 "nbformat_minor": 2
}
