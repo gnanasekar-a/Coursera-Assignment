{
 "cells": [
  {
   "cell_type": "markdown",
   "metadata": {},
   "source": [
    "## Final Report Battle of Neighborhood\n",
    "\n",
    "In this project, I used pandas and json to get the data what I need for analysis. \n",
    "\n",
    "## Project Introduction\n",
    "\n",
    "The stakeholder wants to open a new cinema as company's new business and they are looking for where we can have it opened.\n",
    "\n",
    "Customer explains that in Audience point of view, watching movie is a part of whole afternoon or night activities. Cinema should have many restaurants and shopping places nearby. Transportation is also an important factor. Audience can walk to cinema within 5 minutes from public transport facilities such as bus stop and metro station.\n",
    "\n",
    "He wants us to concentrate on selection of cinema location according to its nearby environment. Cinema facility and rental price is not my concern. He lists out his top 10 favorite cinemas in Hong Kong with rating.\n",
    "\n",
    "Data is the section where you describe about data that will be used to solve the problem and the source of the data.\n",
    "I need to compare 5 possible locations with current cinemas in Hong Kong. Therefore, I need to find a list of Hong Kong cinema and cinemas' geographic coordinates. \n",
    "\n",
    "## Methodology\n",
    "\n",
    "Methodology section which represents the main component of the report where you discuss and describe any exploratory data analysis that you did, any inferential statistical testing that you performed, and what machine learnings were used and why.\n",
    "\n",
    "The methodology I used is pretty straightforward. I will try out a number of different machine learning / statistical learning methods after splitting the data into training and test sets, and find out which ones are best at describing the best location for cinema. \n",
    "\n",
    "## Applying data science to solve the problem\n",
    "\n",
    "To solve the existing problems, the start-up intends to collect location data from Foursquare and apply data science techniques and tools. The data collected will involve comparison of locations to determine which is the best location to recommend to a customer. \n",
    "\n",
    "\n",
    "## Results\n",
    "\n",
    "Results section where you discuss the results.\n",
    "\n",
    "## Discussion\n",
    "\n",
    "Discussion section where you discuss any observations you noted and any recommendations you can make based on the results.\n",
    "\n",
    "## Conclusion\n",
    "\n",
    "Conclusion section where you conclude the report. Without a lot more work in the initial data exploration and methodology phase, it would not be possible to figure out which location would be best fit for cinema.\n"
   ]
  },
  {
   "cell_type": "code",
   "execution_count": null,
   "metadata": {},
   "outputs": [],
   "source": []
  }
 ],
 "metadata": {
  "kernelspec": {
   "display_name": "Python 3",
   "language": "python",
   "name": "python3"
  },
  "language_info": {
   "codemirror_mode": {
    "name": "ipython",
    "version": 3
   },
   "file_extension": ".py",
   "mimetype": "text/x-python",
   "name": "python",
   "nbconvert_exporter": "python",
   "pygments_lexer": "ipython3",
   "version": "3.6.5"
  }
 },
 "nbformat": 4,
 "nbformat_minor": 2
}
